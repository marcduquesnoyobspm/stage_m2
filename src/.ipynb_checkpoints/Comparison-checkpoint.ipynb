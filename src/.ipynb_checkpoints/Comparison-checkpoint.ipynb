{
 "cells": [
  {
   "cell_type": "code",
   "execution_count": 1,
   "id": "apparent-grammar",
   "metadata": {},
   "outputs": [],
   "source": [
    "%matplotlib notebook"
   ]
  },
  {
   "cell_type": "code",
   "execution_count": 2,
   "id": "awful-valve",
   "metadata": {},
   "outputs": [
    {
     "name": "stderr",
     "output_type": "stream",
     "text": [
      "C:\\ProgramData\\Anaconda3\\lib\\site-packages\\h5py\\__init__.py:72: UserWarning: h5py is running against HDF5 1.10.2 when it was built against 1.10.3, this may cause problems\n",
      "  '{0}.{1}.{2}'.format(*version.hdf5_built_version_tuple)\n"
     ]
    }
   ],
   "source": [
    "import autograd.numpy as np\n",
    "import matplotlib.pyplot as plt\n",
    "import celerite\n",
    "from celerite import terms\n",
    "import emcee\n",
    "import corner\n",
    "from scipy import signal\n",
    "from IPython.display import display, Math, Image"
   ]
  },
  {
   "cell_type": "code",
   "execution_count": null,
   "id": "japanese-digit",
   "metadata": {},
   "outputs": [],
   "source": [
    "dir = \"C:/Users/Marc/Documents/stage_m2/stage_m2/plots/Comparison\""
   ]
  },
  {
   "cell_type": "code",
   "execution_count": null,
   "id": "accredited-junction",
   "metadata": {},
   "outputs": [],
   "source": [
    "RV_18_19_single = np.loadtxt(\"res_TESS_18_19_RV_single_obs.txt\",usecols=(0,1,6,13,14),skiprows=1)\n",
    "RV_20_21_0_single = np.loadtxt(\"res_TESS_20_21_0_RV_single_obs.txt\",usecols=(0,1,6,13,14),skiprows=1)\n",
    "RV_20_21_1_single = np.loadtxt(\"res_TESS_20_21_1_RV_single_obs.txt\",usecols=(0,1,6,13,14),skiprows=1)\n",
    "RV_20_21_2_single = np.loadtxt(\"res_TESS_20_21_2_RV_single_obs.txt\",usecols=(0,1,6,13,14),skiprows=1)\n",
    "\n",
    "for i in range(len(RV_18_19_single)) :\n",
    "    "
   ]
  }
 ],
 "metadata": {
  "kernelspec": {
   "display_name": "Python 3",
   "language": "python",
   "name": "python3"
  },
  "language_info": {
   "codemirror_mode": {
    "name": "ipython",
    "version": 3
   },
   "file_extension": ".py",
   "mimetype": "text/x-python",
   "name": "python",
   "nbconvert_exporter": "python",
   "pygments_lexer": "ipython3",
   "version": "3.7.1"
  }
 },
 "nbformat": 4,
 "nbformat_minor": 5
}
