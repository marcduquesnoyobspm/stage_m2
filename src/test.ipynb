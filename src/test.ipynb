{
 "cells": [
  {
   "cell_type": "code",
   "execution_count": 1,
   "id": "exclusive-therapist",
   "metadata": {},
   "outputs": [],
   "source": [
    "%matplotlib inline"
   ]
  },
  {
   "cell_type": "code",
   "execution_count": 2,
   "id": "resistant-fellow",
   "metadata": {},
   "outputs": [],
   "source": [
    "import numpy as np\n",
    "import matplotlib.pyplot as plt\n",
    "import celerite\n",
    "from celerite import terms"
   ]
  },
  {
   "cell_type": "code",
   "execution_count": null,
   "id": "coordinate-athens",
   "metadata": {},
   "outputs": [],
   "source": [
    "### TESS data import ###\n",
    "# data = np.loadtxt(\"/home/marc/Stages/Stage_M2/TESS/tessbpic.dat\",usecols=(0,1))\n",
    "# time = data[:,0]\n",
    "# #time = np.reshape(time,[32,int(62976/32)])\n",
    "# flux = data[:,1]\n",
    "# #flux = np.reshape(flux,[32,int(62976/32)])\n",
    "\n",
    "# mean = np.mean(flux)\n",
    "# flux-=mean\n",
    "\n",
    "# norm = np.max(flux)\n",
    "# flux/=norm\n",
    "\n",
    "# day1 = time[0]\n",
    "# time-=day1\n",
    "\n",
    "time = np.sort(np.append(\n",
    "    np.random.uniform(0, 3.8, 5700),\n",
    "    np.random.uniform(5.5, 10, 6800),\n",
    "))  # The input coordinates must be sorted\n",
    "flux_error = np.random.uniform(0.08, 0.22, len(t))\n",
    "flux = np.sin(3*t + 0.1*(t-5)**2) + flux_error * np.random.randn(len(t))"
   ]
  },
  {
   "cell_type": "code",
   "execution_count": null,
   "id": "sitting-composition",
   "metadata": {},
   "outputs": [],
   "source": [
    "### Uncertities ###\n",
    "# stock_flux = []\n",
    "# for i in range(500) :\n",
    "#     tirage = np.random.randint(0,len(flux),len(flux))\n",
    "#     stock_flux.append(np.mean(flux[tirage]))\n",
    "# flux_error = np.var(flux)\n",
    "#flux_error = np.random.uniform(1e-3,1e-2,len(time))\n"
   ]
  },
  {
   "cell_type": "code",
   "execution_count": null,
   "id": "amazing-sound",
   "metadata": {},
   "outputs": [],
   "source": [
    "### Data plot ###\n",
    "fig = plt.figure()\n",
    "ax = plt.gca()\n",
    "#ax.scatter(time,flux,c=\"r\",s=1)\n",
    "ax.errorbar(time,flux,yerr=flux_error,fmt='.r',markersize=1,capsize=0)\n",
    "ax.set_xlabel(\"Time\")\n",
    "ax.set_ylabel(\"Flux\")\n",
    "fig.show()"
   ]
  },
  {
   "cell_type": "code",
   "execution_count": null,
   "id": "original-proposal",
   "metadata": {},
   "outputs": [],
   "source": [
    "### GP Model ###\n",
    "Q = 1./np.sqrt(2)\n",
    "w0 = 1.\n",
    "S0 = np.var(flux)\n",
    "kernel = terms.SHOTerm(log_S0=np.log(S0), log_Q=np.log(Q), log_omega0=np.log(w0))\n",
    "\n",
    "gp = celerite.GP(kernel)\n",
    "gp.compute(time,flux_error) # You always need to call compute once.\n",
    "print(\"Initial log likelihood: {0}\".format(gp.log_likelihood(flux)))\n",
    "print(\"parameter_dict:\\n{0}\\n\".format(gp.get_parameter_dict()))"
   ]
  },
  {
   "cell_type": "code",
   "execution_count": null,
   "id": "cloudy-transfer",
   "metadata": {},
   "outputs": [],
   "source": [
    "### Optimisation ###\n",
    "from scipy.optimize import minimize\n",
    "\n",
    "def neg_log_like(params, flux, gp):\n",
    "    gp.set_parameter_vector(params)\n",
    "    return -gp.log_likelihood(flux)\n",
    "\n",
    "initial_params = gp.get_parameter_vector()\n",
    "\n",
    "results = minimize(neg_log_like, initial_params, method=\"L-BFGS-B\", args=(flux, gp))\n",
    "print(results)"
   ]
  },
  {
   "cell_type": "code",
   "execution_count": null,
   "id": "standing-board",
   "metadata": {},
   "outputs": [],
   "source": [
    "x = np.linspace(np.min(time),np.max(time),20000)\n",
    "pred_mean, pred_var = gp.predict(flux, x,return_var=True)\n",
    "pred_std = np.sqrt(pred_var)"
   ]
  },
  {
   "cell_type": "code",
   "execution_count": null,
   "id": "outstanding-trinidad",
   "metadata": {},
   "outputs": [],
   "source": [
    "color = \"#ff7f0e\"\n",
    "plt.errorbar(time,flux,yerr=flux_error,fmt=\".r\",capsize=0,markersize=1)\n",
    "plt.plot(x, pred_mean, color=color)\n",
    "plt.fill_between(x, pred_mean+pred_std, pred_mean-pred_std, color=color, alpha=0.3, edgecolor=\"none\")\n",
    "plt.xlabel(\"x\")\n",
    "plt.ylabel(\"y\")\n",
    "plt.show()"
   ]
  }
 ],
 "metadata": {
  "kernelspec": {
   "display_name": "Python 3",
   "language": "python",
   "name": "python3"
  },
  "language_info": {
   "codemirror_mode": {
    "name": "ipython",
    "version": 3
   },
   "file_extension": ".py",
   "mimetype": "text/x-python",
   "name": "python",
   "nbconvert_exporter": "python",
   "pygments_lexer": "ipython3",
   "version": "3.7.10"
  }
 },
 "nbformat": 4,
 "nbformat_minor": 5
}
